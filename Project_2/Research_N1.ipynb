{
 "cells": [
  {
   "cell_type": "code",
   "execution_count": 1,
   "metadata": {},
   "outputs": [
    {
     "data": {
      "text/plain": [
       "<Figure size 576x396 with 0 Axes>"
      ]
     },
     "metadata": {},
     "output_type": "display_data"
    }
   ],
   "source": [
    "import matplotlib.pyplot as plt\n",
    "from tensorflow import keras\n",
    "from keras import models, Model\n",
    "import numpy as np\n",
    "\n",
    "\n",
    "# fancy graphics\n",
    "plt.style.use('seaborn')\n",
    "plt.tight_layout()"
   ]
  },
  {
   "cell_type": "markdown",
   "metadata": {},
   "source": [
    "## Plotting methods of training and validation loss"
   ]
  },
  {
   "cell_type": "code",
   "execution_count": 2,
   "metadata": {},
   "outputs": [],
   "source": [
    "def plotLoss(losses, loss_fn, ep_first_phase=None):\n",
    "    #Plotting the validation and training errors\n",
    "    x_axis = range(1,len(losses['loss'])+1)\n",
    "\n",
    "    if ep_first_phase is not None:\n",
    "        plt.axvline(ep_first_phase, c='teal', linestyle='--', label='End of first training phase')\n",
    "    plt.plot(x_axis, losses['loss'], label='Training loss', c='orange')\n",
    "    plt.plot(x_axis, losses['val_loss'], label='Validation loss', linestyle='-.', c='brown', linewidth=2)\n",
    "\n",
    "    plt.xlabel('Epochs')\n",
    "    plt.ylabel(loss_fn)\n",
    "    plt.title('Training and validation loss')\n",
    "    plt.legend()\n",
    "    plt.show()"
   ]
  },
  {
   "cell_type": "code",
   "execution_count": 3,
   "metadata": {},
   "outputs": [],
   "source": [
    "def plotAll(saves):\n",
    "    convNums, batchSizes, epochs, train_l, val_l = [],[],[],[],[]\n",
    "    for save in saves:\n",
    "        convNums.append(save['cnv'])\n",
    "        batchSizes.append(save['btchSz'])\n",
    "        epochs.append(save['ep'])\n",
    "        train_l.append(save['tr_l'])\n",
    "        val_l.append(save['val_l'])\n",
    "\n",
    "    # make two 3d heatmaps, one for training loss and one for validation loss\n",
    "    fig = plt.figure(figsize=(16,8))\n",
    "    for i,loss in enumerate((train_l,val_l)):\n",
    "        ax = fig.add_subplot(121+i, projection='3d')\n",
    "\n",
    "        colmap = cm.ScalarMappable(cmap=cm.YlOrRd)\n",
    "        colmap.set_array(train_l)\n",
    "\n",
    "        ax.scatter(convNums,batchSizes,epochs,marker='s',s=140,c=loss,cmap='YlOrRd')\n",
    "        fig.colorbar(colmap)\n",
    "        ax.set_xlabel('Convolution layers')\n",
    "        ax.set_ylabel('Batch Size')\n",
    "        ax.set_zlabel('Epochs')\n",
    "        ax.grid(True)\n",
    "        ax.set_title('Training Loss') if i == 0 else ax.set_title('Validation Loss')\n",
    "\n",
    "    plt.show()"
   ]
  },
  {
   "cell_type": "markdown",
   "metadata": {},
   "source": [
    "### Paths"
   ]
  },
  {
   "cell_type": "code",
   "execution_count": 4,
   "metadata": {},
   "outputs": [],
   "source": [
    "models_dir = 'autoencoder_models/'\n",
    "\n",
    "# files with models\n",
    "best_model_fname = 'best.h5'\n",
    "bigBatch_model_fname = 'big_batch.h5'\n",
    "complex_model_fname = 'complex.h5'\n",
    "\n",
    "# files with losses\n",
    "best_model_loss_fname = 'best_loss.npy'\n",
    "bigBatch_model_loss_fname = 'big_batch_loss.npy'\n",
    "complex_model_loss_fname = 'complex_loss.npy'"
   ]
  },
  {
   "cell_type": "markdown",
   "metadata": {},
   "source": [
    "## We have researched 3 autoencoder models, namely:\n",
    "### - A model that we think is the best because it achieves an optimal loss minimization and it is time efficient compared to models that are deeper layer-wise and more complex\n",
    "\n",
    "### - A model that has the same architecture with our best model but uses a bigger batch size during training. We use this model to show that its better to do more gradient updates in one epoch, something you achieve with small batches\n",
    "\n",
    "### - A model that uses a lot of convolution and normalization layers, i.e. is deeper. We use this model to show that there is no gain in loss minimization, moreover this model takes double the time for each epoch compared to our best model"
   ]
  },
  {
   "cell_type": "markdown",
   "metadata": {},
   "source": [
    "### Below we provide an overview of the model architectures and training iterations for all 3 models"
   ]
  },
  {
   "cell_type": "markdown",
   "metadata": {},
   "source": [
    "### Best model"
   ]
  },
  {
   "cell_type": "code",
   "execution_count": 5,
   "metadata": {},
   "outputs": [],
   "source": [
    "model = models.load_model(models_dir + best_model_fname, compile= False)"
   ]
  },
  {
   "cell_type": "code",
   "execution_count": 6,
   "metadata": {},
   "outputs": [
    {
     "name": "stdout",
     "output_type": "stream",
     "text": [
      "Model: \"N1\"\n",
      "_________________________________________________________________\n",
      "Layer (type)                 Output Shape              Param #   \n",
      "=================================================================\n",
      "input_1 (InputLayer)         [(None, 28, 28, 1)]       0         \n",
      "_________________________________________________________________\n",
      "conv2d (Conv2D)              (None, 28, 28, 16)        160       \n",
      "_________________________________________________________________\n",
      "batch_normalization (BatchNo (None, 28, 28, 16)        64        \n",
      "_________________________________________________________________\n",
      "conv2d_1 (Conv2D)            (None, 28, 28, 16)        2320      \n",
      "_________________________________________________________________\n",
      "batch_normalization_1 (Batch (None, 28, 28, 16)        64        \n",
      "_________________________________________________________________\n",
      "max_pooling2d (MaxPooling2D) (None, 14, 14, 16)        0         \n",
      "_________________________________________________________________\n",
      "conv2d_2 (Conv2D)            (None, 14, 14, 32)        4640      \n",
      "_________________________________________________________________\n",
      "batch_normalization_2 (Batch (None, 14, 14, 32)        128       \n",
      "_________________________________________________________________\n",
      "conv2d_3 (Conv2D)            (None, 14, 14, 32)        9248      \n",
      "_________________________________________________________________\n",
      "batch_normalization_3 (Batch (None, 14, 14, 32)        128       \n",
      "_________________________________________________________________\n",
      "max_pooling2d_1 (MaxPooling2 (None, 7, 7, 32)          0         \n",
      "_________________________________________________________________\n",
      "conv2d_4 (Conv2D)            (None, 7, 7, 64)          18496     \n",
      "_________________________________________________________________\n",
      "batch_normalization_4 (Batch (None, 7, 7, 64)          256       \n",
      "_________________________________________________________________\n",
      "conv2d_5 (Conv2D)            (None, 7, 7, 64)          36928     \n",
      "_________________________________________________________________\n",
      "batch_normalization_5 (Batch (None, 7, 7, 64)          256       \n",
      "_________________________________________________________________\n",
      "up_sampling2d (UpSampling2D) (None, 14, 14, 64)        0         \n",
      "_________________________________________________________________\n",
      "conv2d_6 (Conv2D)            (None, 14, 14, 32)        18464     \n",
      "_________________________________________________________________\n",
      "batch_normalization_6 (Batch (None, 14, 14, 32)        128       \n",
      "_________________________________________________________________\n",
      "conv2d_7 (Conv2D)            (None, 14, 14, 32)        9248      \n",
      "_________________________________________________________________\n",
      "batch_normalization_7 (Batch (None, 14, 14, 32)        128       \n",
      "_________________________________________________________________\n",
      "up_sampling2d_1 (UpSampling2 (None, 28, 28, 32)        0         \n",
      "_________________________________________________________________\n",
      "conv2d_8 (Conv2D)            (None, 28, 28, 16)        4624      \n",
      "_________________________________________________________________\n",
      "batch_normalization_8 (Batch (None, 28, 28, 16)        64        \n",
      "_________________________________________________________________\n",
      "conv2d_9 (Conv2D)            (None, 28, 28, 16)        2320      \n",
      "_________________________________________________________________\n",
      "batch_normalization_9 (Batch (None, 28, 28, 16)        64        \n",
      "_________________________________________________________________\n",
      "conv2d_10 (Conv2D)           (None, 28, 28, 1)         145       \n",
      "=================================================================\n",
      "Total params: 107,873\n",
      "Trainable params: 107,233\n",
      "Non-trainable params: 640\n",
      "_________________________________________________________________\n"
     ]
    }
   ],
   "source": [
    "model.summary()"
   ]
  },
  {
   "cell_type": "code",
   "execution_count": 7,
   "metadata": {},
   "outputs": [],
   "source": [
    "dummy=\\\n",
    "\"\"\"\n",
    "Best Model\n",
    "\n",
    "Params:\n",
    "    Epochs: 30\n",
    "    Batch Size: 64\n",
    "    Conv Layers: 5\n",
    "\n",
    "Training:    \n",
    "Epoch 1/30\n",
    "750/750 [==============================] - 7s 10ms/step - loss: 0.0168 - val_loss: 0.0090\n",
    "Epoch 2/30\n",
    "750/750 [==============================] - 7s 9ms/step - loss: 0.0047 - val_loss: 0.0026\n",
    "Epoch 3/30\n",
    "750/750 [==============================] - 7s 9ms/step - loss: 0.0027 - val_loss: 0.0016\n",
    "Epoch 4/30\n",
    "750/750 [==============================] - 7s 9ms/step - loss: 0.0018 - val_loss: 0.0021\n",
    "Epoch 5/30\n",
    "750/750 [==============================] - 7s 9ms/step - loss: 0.0012 - val_loss: 5.5491e-04\n",
    "Epoch 6/30\n",
    "750/750 [==============================] - 7s 9ms/step - loss: 8.2964e-04 - val_loss: 4.1838e-04\n",
    "Epoch 7/30\n",
    "750/750 [==============================] - 7s 9ms/step - loss: 6.1813e-04 - val_loss: 3.5893e-04\n",
    "Epoch 8/30\n",
    "750/750 [==============================] - 7s 9ms/step - loss: 4.5622e-04 - val_loss: 2.6886e-04\n",
    "Epoch 9/30\n",
    "750/750 [==============================] - 7s 10ms/step - loss: 3.7254e-04 - val_loss: 3.2046e-04\n",
    "Epoch 10/30\n",
    "750/750 [==============================] - 7s 9ms/step - loss: 3.1901e-04 - val_loss: 1.7976e-04\n",
    "Epoch 11/30\n",
    "750/750 [==============================] - 7s 9ms/step - loss: 2.5227e-04 - val_loss: 1.9831e-04\n",
    "Epoch 12/30\n",
    "750/750 [==============================] - 7s 9ms/step - loss: 2.2156e-04 - val_loss: 1.6834e-04\n",
    "Epoch 13/30\n",
    "750/750 [==============================] - 7s 9ms/step - loss: 1.8580e-04 - val_loss: 1.6123e-04\n",
    "Epoch 14/30\n",
    "750/750 [==============================] - 7s 9ms/step - loss: 1.5326e-04 - val_loss: 2.0957e-04\n",
    "Epoch 15/30\n",
    "750/750 [==============================] - 7s 9ms/step - loss: 1.5011e-04 - val_loss: 1.4149e-04\n",
    "Epoch 16/30\n",
    "750/750 [==============================] - 7s 9ms/step - loss: 1.2689e-04 - val_loss: 1.5338e-04\n",
    "Epoch 17/30\n",
    "750/750 [==============================] - 7s 9ms/step - loss: 1.1692e-04 - val_loss: 1.1249e-04\n",
    "Epoch 18/30\n",
    "750/750 [==============================] - 7s 9ms/step - loss: 1.0013e-04 - val_loss: 1.2627e-04\n",
    "Epoch 19/30\n",
    "750/750 [==============================] - 7s 9ms/step - loss: 8.9561e-05 - val_loss: 1.1079e-04\n",
    "Epoch 20/30\n",
    "750/750 [==============================] - 7s 9ms/step - loss: 8.6835e-05 - val_loss: 1.3633e-04\n",
    "Epoch 21/30\n",
    "750/750 [==============================] - 7s 9ms/step - loss: 7.6951e-05 - val_loss: 7.6563e-05\n",
    "Epoch 22/30\n",
    "750/750 [==============================] - 7s 10ms/step - loss: 7.3907e-05 - val_loss: 3.0552e-04\n",
    "Epoch 23/30\n",
    "750/750 [==============================] - 7s 9ms/step - loss: 6.8879e-05 - val_loss: 8.0245e-05\n",
    "Epoch 24/30\n",
    "750/750 [==============================] - 7s 9ms/step - loss: 6.3263e-05 - val_loss: 8.9976e-05\n",
    "Epoch 25/30\n",
    "750/750 [==============================] - 7s 9ms/step - loss: 5.9281e-05 - val_loss: 8.9869e-05\n",
    "Epoch 26/30\n",
    "750/750 [==============================] - 7s 9ms/step - loss: 5.5041e-05 - val_loss: 1.0131e-04\n",
    "Epoch 27/30\n",
    "750/750 [==============================] - 7s 9ms/step - loss: 5.1039e-05 - val_loss: 1.2277e-04\n",
    "Epoch 28/30\n",
    "750/750 [==============================] - 7s 9ms/step - loss: 4.9345e-05 - val_loss: 1.1173e-04\n",
    "Epoch 29/30\n",
    "750/750 [==============================] - 7s 9ms/step - loss: 4.7121e-05 - val_loss: 7.8310e-05\n",
    "Epoch 30/30\n",
    "750/750 [==============================] - 7s 9ms/step - loss: 4.4984e-05 - val_loss: 8.0537e-05\n",
    "\"\"\""
   ]
  },
  {
   "cell_type": "markdown",
   "metadata": {},
   "source": [
    "### Bigger Batch Size model"
   ]
  },
  {
   "cell_type": "markdown",
   "metadata": {},
   "source": [
    "#### This model has the same architecture with the best model"
   ]
  },
  {
   "cell_type": "markdown",
   "metadata": {},
   "source": [
    "### Below we can see that the rate of loss minimization drops significantly when using bigger batches"
   ]
  },
  {
   "cell_type": "code",
   "execution_count": 8,
   "metadata": {},
   "outputs": [],
   "source": [
    "dummy=\\\n",
    "\"\"\"\n",
    "Bigger batch size Model\n",
    "\n",
    "Params:\n",
    "    Epochs: 30\n",
    "    Batch Size: 512\n",
    "    Conv Layers: 5\n",
    "    \n",
    "Training:    \n",
    "Epoch 1/30\n",
    "94/94 [==============================] - 5s 50ms/step - loss: 0.0483 - val_loss: 0.1790\n",
    "Epoch 2/30\n",
    "94/94 [==============================] - 4s 44ms/step - loss: 0.0181 - val_loss: 0.1692\n",
    "Epoch 3/30\n",
    "94/94 [==============================] - 4s 44ms/step - loss: 0.0130 - val_loss: 0.0314\n",
    "Epoch 4/30\n",
    "94/94 [==============================] - 4s 44ms/step - loss: 0.0106 - val_loss: 0.0186\n",
    "Epoch 5/30\n",
    "94/94 [==============================] - 4s 45ms/step - loss: 0.0090 - val_loss: 0.0132\n",
    "Epoch 6/30\n",
    "94/94 [==============================] - 4s 45ms/step - loss: 0.0077 - val_loss: 0.0145\n",
    "Epoch 7/30\n",
    "94/94 [==============================] - 4s 45ms/step - loss: 0.0069 - val_loss: 0.0116\n",
    "Epoch 8/30\n",
    "94/94 [==============================] - 4s 45ms/step - loss: 0.0061 - val_loss: 0.0038\n",
    "Epoch 9/30\n",
    "94/94 [==============================] - 4s 45ms/step - loss: 0.0053 - val_loss: 0.0138\n",
    "Epoch 10/30\n",
    "94/94 [==============================] - 4s 45ms/step - loss: 0.0050 - val_loss: 0.0079\n",
    "Epoch 11/30\n",
    "94/94 [==============================] - 4s 45ms/step - loss: 0.0042 - val_loss: 0.0058\n",
    "Epoch 12/30\n",
    "94/94 [==============================] - 4s 45ms/step - loss: 0.0041 - val_loss: 0.0030\n",
    "Epoch 13/30\n",
    "94/94 [==============================] - 4s 45ms/step - loss: 0.0036 - val_loss: 0.0025\n",
    "Epoch 14/30\n",
    "94/94 [==============================] - 4s 45ms/step - loss: 0.0035 - val_loss: 0.0070\n",
    "Epoch 15/30\n",
    "94/94 [==============================] - 4s 45ms/step - loss: 0.0032 - val_loss: 0.0074\n",
    "Epoch 16/30\n",
    "94/94 [==============================] - 4s 45ms/step - loss: 0.0027 - val_loss: 0.0017\n",
    "Epoch 17/30\n",
    "94/94 [==============================] - 4s 45ms/step - loss: 0.0027 - val_loss: 0.0025\n",
    "Epoch 18/30\n",
    "94/94 [==============================] - 4s 45ms/step - loss: 0.0024 - val_loss: 0.0027\n",
    "Epoch 19/30\n",
    "94/94 [==============================] - 4s 45ms/step - loss: 0.0023 - val_loss: 0.0018\n",
    "Epoch 20/30\n",
    "94/94 [==============================] - 4s 45ms/step - loss: 0.0022 - val_loss: 0.0016\n",
    "Epoch 21/30\n",
    "94/94 [==============================] - 4s 45ms/step - loss: 0.0021 - val_loss: 0.0013\n",
    "Epoch 22/30\n",
    "94/94 [==============================] - 4s 45ms/step - loss: 0.0018 - val_loss: 0.0071\n",
    "Epoch 23/30\n",
    "94/94 [==============================] - 4s 45ms/step - loss: 0.0018 - val_loss: 0.0016\n",
    "Epoch 24/30\n",
    "94/94 [==============================] - 4s 45ms/step - loss: 0.0019 - val_loss: 8.9657e-04\n",
    "Epoch 25/30\n",
    "94/94 [==============================] - 4s 45ms/step - loss: 0.0016 - val_loss: 9.1332e-04\n",
    "Epoch 26/30\n",
    "94/94 [==============================] - 4s 45ms/step - loss: 0.0016 - val_loss: 0.0026\n",
    "Epoch 27/30\n",
    "94/94 [==============================] - 4s 45ms/step - loss: 0.0015 - val_loss: 7.8089e-04\n",
    "Epoch 28/30\n",
    "94/94 [==============================] - 4s 45ms/step - loss: 0.0014 - val_loss: 7.4974e-04\n",
    "Epoch 29/30\n",
    "94/94 [==============================] - 4s 45ms/step - loss: 0.0013 - val_loss: 0.0029\n",
    "Epoch 30/30\n",
    "94/94 [==============================] - 4s 45ms/step - loss: 0.0013 - val_loss: 0.0020\n",
    "\"\"\""
   ]
  },
  {
   "cell_type": "markdown",
   "metadata": {},
   "source": [
    "### Complex model"
   ]
  },
  {
   "cell_type": "code",
   "execution_count": 9,
   "metadata": {},
   "outputs": [],
   "source": [
    "model = models.load_model(models_dir + complex_model_fname, compile= False)"
   ]
  },
  {
   "cell_type": "code",
   "execution_count": 10,
   "metadata": {},
   "outputs": [
    {
     "name": "stdout",
     "output_type": "stream",
     "text": [
      "Model: \"N1\"\n",
      "_________________________________________________________________\n",
      "Layer (type)                 Output Shape              Param #   \n",
      "=================================================================\n",
      "input_4 (InputLayer)         [(None, 28, 28, 1)]       0         \n",
      "_________________________________________________________________\n",
      "conv2d_29 (Conv2D)           (None, 28, 28, 8)         80        \n",
      "_________________________________________________________________\n",
      "batch_normalization_26 (Batc (None, 28, 28, 8)         32        \n",
      "_________________________________________________________________\n",
      "conv2d_30 (Conv2D)           (None, 28, 28, 8)         584       \n",
      "_________________________________________________________________\n",
      "batch_normalization_27 (Batc (None, 28, 28, 8)         32        \n",
      "_________________________________________________________________\n",
      "max_pooling2d_6 (MaxPooling2 (None, 14, 14, 8)         0         \n",
      "_________________________________________________________________\n",
      "conv2d_31 (Conv2D)           (None, 14, 14, 16)        1168      \n",
      "_________________________________________________________________\n",
      "batch_normalization_28 (Batc (None, 14, 14, 16)        64        \n",
      "_________________________________________________________________\n",
      "conv2d_32 (Conv2D)           (None, 14, 14, 16)        2320      \n",
      "_________________________________________________________________\n",
      "batch_normalization_29 (Batc (None, 14, 14, 16)        64        \n",
      "_________________________________________________________________\n",
      "conv2d_33 (Conv2D)           (None, 14, 14, 32)        4640      \n",
      "_________________________________________________________________\n",
      "batch_normalization_30 (Batc (None, 14, 14, 32)        128       \n",
      "_________________________________________________________________\n",
      "conv2d_34 (Conv2D)           (None, 14, 14, 32)        9248      \n",
      "_________________________________________________________________\n",
      "batch_normalization_31 (Batc (None, 14, 14, 32)        128       \n",
      "_________________________________________________________________\n",
      "max_pooling2d_7 (MaxPooling2 (None, 7, 7, 32)          0         \n",
      "_________________________________________________________________\n",
      "conv2d_35 (Conv2D)           (None, 7, 7, 64)          18496     \n",
      "_________________________________________________________________\n",
      "batch_normalization_32 (Batc (None, 7, 7, 64)          256       \n",
      "_________________________________________________________________\n",
      "conv2d_36 (Conv2D)           (None, 7, 7, 64)          36928     \n",
      "_________________________________________________________________\n",
      "batch_normalization_33 (Batc (None, 7, 7, 64)          256       \n",
      "_________________________________________________________________\n",
      "conv2d_37 (Conv2D)           (None, 7, 7, 128)         73856     \n",
      "_________________________________________________________________\n",
      "batch_normalization_34 (Batc (None, 7, 7, 128)         512       \n",
      "_________________________________________________________________\n",
      "conv2d_38 (Conv2D)           (None, 7, 7, 256)         295168    \n",
      "_________________________________________________________________\n",
      "batch_normalization_35 (Batc (None, 7, 7, 256)         1024      \n",
      "_________________________________________________________________\n",
      "conv2d_39 (Conv2D)           (None, 7, 7, 256)         590080    \n",
      "_________________________________________________________________\n",
      "batch_normalization_36 (Batc (None, 7, 7, 256)         1024      \n",
      "_________________________________________________________________\n",
      "conv2d_40 (Conv2D)           (None, 7, 7, 128)         295040    \n",
      "_________________________________________________________________\n",
      "batch_normalization_37 (Batc (None, 7, 7, 128)         512       \n",
      "_________________________________________________________________\n",
      "conv2d_41 (Conv2D)           (None, 7, 7, 64)          73792     \n",
      "_________________________________________________________________\n",
      "batch_normalization_38 (Batc (None, 7, 7, 64)          256       \n",
      "_________________________________________________________________\n",
      "conv2d_42 (Conv2D)           (None, 7, 7, 64)          36928     \n",
      "_________________________________________________________________\n",
      "batch_normalization_39 (Batc (None, 7, 7, 64)          256       \n",
      "_________________________________________________________________\n",
      "up_sampling2d_6 (UpSampling2 (None, 14, 14, 64)        0         \n",
      "_________________________________________________________________\n",
      "conv2d_43 (Conv2D)           (None, 14, 14, 32)        18464     \n",
      "_________________________________________________________________\n",
      "batch_normalization_40 (Batc (None, 14, 14, 32)        128       \n",
      "_________________________________________________________________\n",
      "conv2d_44 (Conv2D)           (None, 14, 14, 32)        9248      \n",
      "_________________________________________________________________\n",
      "batch_normalization_41 (Batc (None, 14, 14, 32)        128       \n",
      "_________________________________________________________________\n",
      "conv2d_45 (Conv2D)           (None, 14, 14, 16)        4624      \n",
      "_________________________________________________________________\n",
      "batch_normalization_42 (Batc (None, 14, 14, 16)        64        \n",
      "_________________________________________________________________\n",
      "conv2d_46 (Conv2D)           (None, 14, 14, 16)        2320      \n",
      "_________________________________________________________________\n",
      "batch_normalization_43 (Batc (None, 14, 14, 16)        64        \n",
      "_________________________________________________________________\n",
      "up_sampling2d_7 (UpSampling2 (None, 28, 28, 16)        0         \n",
      "_________________________________________________________________\n",
      "conv2d_47 (Conv2D)           (None, 28, 28, 8)         1160      \n",
      "_________________________________________________________________\n",
      "batch_normalization_44 (Batc (None, 28, 28, 8)         32        \n",
      "_________________________________________________________________\n",
      "conv2d_48 (Conv2D)           (None, 28, 28, 8)         584       \n",
      "_________________________________________________________________\n",
      "batch_normalization_45 (Batc (None, 28, 28, 8)         32        \n",
      "_________________________________________________________________\n",
      "conv2d_49 (Conv2D)           (None, 28, 28, 1)         73        \n",
      "=================================================================\n",
      "Total params: 1,479,793\n",
      "Trainable params: 1,477,297\n",
      "Non-trainable params: 2,496\n",
      "_________________________________________________________________\n"
     ]
    }
   ],
   "source": [
    "model.summary()"
   ]
  },
  {
   "cell_type": "markdown",
   "metadata": {},
   "source": [
    "### Below we can see that the more complex model has no advantage with comparison to our best model"
   ]
  },
  {
   "cell_type": "code",
   "execution_count": 11,
   "metadata": {},
   "outputs": [],
   "source": [
    "dummy=\\\n",
    "\"\"\"\n",
    "Complex model\n",
    "Params:\n",
    "    Epochs: 30\n",
    "    Batch Size: 64\n",
    "    Conv Layers: 10\n",
    "Training:    \n",
    "Epoch 1/30\n",
    "750/750 [==============================] - 13s 18ms/step - loss: 0.0300 - val_loss: 0.0227\n",
    "Epoch 2/30\n",
    "750/750 [==============================] - 13s 17ms/step - loss: 0.0114 - val_loss: 0.0091\n",
    "Epoch 3/30\n",
    "750/750 [==============================] - 13s 17ms/step - loss: 0.0080 - val_loss: 0.0069\n",
    "Epoch 4/30\n",
    "750/750 [==============================] - 13s 17ms/step - loss: 0.0062 - val_loss: 0.0080\n",
    "Epoch 5/30\n",
    "750/750 [==============================] - 13s 17ms/step - loss: 0.0050 - val_loss: 0.0054\n",
    "Epoch 6/30\n",
    "750/750 [==============================] - 13s 17ms/step - loss: 0.0041 - val_loss: 0.0053\n",
    "Epoch 7/30\n",
    "750/750 [==============================] - 13s 17ms/step - loss: 0.0035 - val_loss: 0.0043\n",
    "Epoch 8/30\n",
    "750/750 [==============================] - 13s 17ms/step - loss: 0.0030 - val_loss: 0.0024\n",
    "Epoch 9/30\n",
    "750/750 [==============================] - 13s 17ms/step - loss: 0.0026 - val_loss: 0.0038\n",
    "Epoch 10/30\n",
    "750/750 [==============================] - 13s 17ms/step - loss: 0.0023 - val_loss: 0.0026\n",
    "Epoch 11/30\n",
    "750/750 [==============================] - 13s 17ms/step - loss: 0.0021 - val_loss: 0.0017\n",
    "Epoch 12/30\n",
    "750/750 [==============================] - 13s 17ms/step - loss: 0.0019 - val_loss: 0.0019\n",
    "Epoch 13/30\n",
    "750/750 [==============================] - 13s 17ms/step - loss: 0.0017 - val_loss: 0.0023\n",
    "Epoch 14/30\n",
    "750/750 [==============================] - 13s 17ms/step - loss: 0.0015 - val_loss: 0.0066\n",
    "Epoch 15/30\n",
    "750/750 [==============================] - 13s 17ms/step - loss: 0.0014 - val_loss: 0.0011\n",
    "Epoch 16/30\n",
    "750/750 [==============================] - 13s 17ms/step - loss: 0.0013 - val_loss: 0.0024\n",
    "Epoch 17/30\n",
    "750/750 [==============================] - 13s 17ms/step - loss: 0.0012 - val_loss: 0.0042\n",
    "Epoch 18/30\n",
    "750/750 [==============================] - 13s 17ms/step - loss: 0.0011 - val_loss: 9.3480e-04\n",
    "Epoch 19/30\n",
    "750/750 [==============================] - 13s 17ms/step - loss: 0.0010 - val_loss: 0.0013\n",
    "Epoch 20/30\n",
    "750/750 [==============================] - 13s 17ms/step - loss: 9.4572e-04 - val_loss: 0.0014\n",
    "Epoch 21/30\n",
    "750/750 [==============================] - 13s 17ms/step - loss: 8.8211e-04 - val_loss: 0.0019\n",
    "Epoch 22/30\n",
    "750/750 [==============================] - 13s 17ms/step - loss: 8.1801e-04 - val_loss: 7.8513e-04\n",
    "Epoch 23/30\n",
    "750/750 [==============================] - 13s 17ms/step - loss: 7.7000e-04 - val_loss: 7.4732e-04\n",
    "Epoch 24/30\n",
    "750/750 [==============================] - 13s 17ms/step - loss: 7.2659e-04 - val_loss: 7.4442e-04\n",
    "Epoch 25/30\n",
    "750/750 [==============================] - 13s 17ms/step - loss: 6.8788e-04 - val_loss: 8.6240e-04\n",
    "Epoch 26/30\n",
    "750/750 [==============================] - 13s 17ms/step - loss: 6.4305e-04 - val_loss: 0.0011\n",
    "Epoch 27/30\n",
    "750/750 [==============================] - 13s 17ms/step - loss: 6.3070e-04 - val_loss: 9.6152e-04\n",
    "Epoch 28/30\n",
    "750/750 [==============================] - 13s 17ms/step - loss: 5.7266e-04 - val_loss: 7.2832e-04\n",
    "Epoch 29/30\n",
    "750/750 [==============================] - 13s 17ms/step - loss: 5.5194e-04 - val_loss: 7.7867e-04\n",
    "Epoch 30/30\n",
    "750/750 [==============================] - 13s 17ms/step - loss: 5.3154e-04 - val_loss: 7.6593e-04\n",
    "\"\"\""
   ]
  },
  {
   "cell_type": "markdown",
   "metadata": {},
   "source": [
    "### Below we load the models' training and validation losses during training"
   ]
  },
  {
   "cell_type": "code",
   "execution_count": 12,
   "metadata": {},
   "outputs": [],
   "source": [
    "x = np.load(models_dir + best_model_loss_fname, allow_pickle=True)\n",
    "best_losses = x.tolist()\n",
    "\n",
    "x = np.load(models_dir + bigBatch_model_loss_fname, allow_pickle=True)\n",
    "bBatch_losses = x.tolist()\n",
    "\n",
    "x = np.load(models_dir + complex_model_loss_fname, allow_pickle=True)\n",
    "complex_losses = x.tolist()"
   ]
  },
  {
   "cell_type": "markdown",
   "metadata": {},
   "source": [
    "## Training and validation losses over epochs"
   ]
  },
  {
   "cell_type": "markdown",
   "metadata": {},
   "source": [
    "### Best model"
   ]
  },
  {
   "cell_type": "code",
   "execution_count": 13,
   "metadata": {},
   "outputs": [
    {
     "data": {
      "image/png": "[encoded data removed]",
      "text/plain": [
       "<Figure size 576x396 with 1 Axes>"
      ]
     },
     "metadata": {},
     "output_type": "display_data"
    }
   ],
   "source": [
    "plotLoss(best_losses, 'Mean Squared Error')"
   ]
  },
  {
   "cell_type": "markdown",
   "metadata": {},
   "source": [
    "### Bigger Batch Size model"
   ]
  },
  {
   "cell_type": "code",
   "execution_count": 14,
   "metadata": {},
   "outputs": [
    {
     "data": {
      "image/png": "[encoded data removed]",
      "text/plain": [
       "<Figure size 576x396 with 1 Axes>"
      ]
     },
     "metadata": {},
     "output_type": "display_data"
    }
   ],
   "source": [
    "plotLoss(bBatch_losses, 'Mean Squared Error')"
   ]
  },
  {
   "cell_type": "markdown",
   "metadata": {},
   "source": [
    "### Complex model"
   ]
  },
  {
   "cell_type": "code",
   "execution_count": 15,
   "metadata": {},
   "outputs": [
    {
     "data": {
      "image/png": "[encoded data removed]",
      "text/plain": [
       "<Figure size 576x396 with 1 Axes>"
      ]
     },
     "metadata": {},
     "output_type": "display_data"
    }
   ],
   "source": [
    "plotLoss(complex_losses, 'Mean Squared Error')"
   ]
  },
  {
   "cell_type": "markdown",
   "metadata": {},
   "source": [
    "## From the above plots we can clearly see that there is no overfitting in all 3 models, something that occurs when the validation loss gets bigger while the training loss gets smaller"
   ]
  },
  {
   "cell_type": "markdown",
   "metadata": {},
   "source": [
    "### Below we plot a 3d heatmap of the training and validation losses over the models' hyperparameters"
   ]
  },
  {
   "cell_type": "code",
   "execution_count": 16,
   "metadata": {},
   "outputs": [],
   "source": [
    "def model_hparams_config(convolution_layers, batch_size, epochs, training_loss, val_loss):\n",
    "    return {'cnv': convolution_layers,\n",
    "            'btchSz': batch_size,\n",
    "            'ep': epochs,\n",
    "            'tr_l': training_loss,\n",
    "            'val_l': val_loss}"
   ]
  },
  {
   "cell_type": "code",
   "execution_count": 17,
   "metadata": {},
   "outputs": [],
   "source": [
    "best_config = model_hparams_config(5, 64, 50, best_losses['loss'][-1], best_losses['val_loss'][-1])\n",
    "\n",
    "bBatch_config = model_hparams_config(5, 512, 50, bBatch_losses['loss'][-1], bBatch_losses['val_loss'][-1])\n",
    "\n",
    "complex_config = model_hparams_config(10, 64, 50, complex_losses['loss'][-1], complex_losses['val_loss'][-1])"
   ]
  },
  {
   "cell_type": "code",
   "execution_count": 18,
   "metadata": {},
   "outputs": [],
   "source": [
    "%matplotlib qt\n",
    "from pylab import *\n",
    "from mpl_toolkits.mplot3d import Axes3D\n",
    "\n",
    "model_hyperparams=  [best_config, bBatch_config, complex_config]\n",
    "\n",
    "\n",
    "plotAll(model_hyperparams)"
   ]
  }
 ],
 "metadata": {
  "anaconda-cloud": {},
  "kernelspec": {
   "display_name": "Python 3",
   "language": "python",
   "name": "python3"
  },
  "language_info": {
   "codemirror_mode": {
    "name": "ipython",
    "version": 3
   },
   "file_extension": ".py",
   "mimetype": "text/x-python",
   "name": "python",
   "nbconvert_exporter": "python",
   "pygments_lexer": "ipython3",
   "version": "3.8.5"
  }
 },
 "nbformat": 4,
 "nbformat_minor": 4
}
